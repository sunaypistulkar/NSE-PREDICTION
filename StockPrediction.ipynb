{
 "cells": [
  {
   "cell_type": "code",
   "execution_count": 123,
   "id": "78d4093b",
   "metadata": {},
   "outputs": [],
   "source": [
    "import pandas as pd\n",
    "import numpy as np\n",
    "import seaborn as sns\n",
    "import matplotlib.pyplot as plt"
   ]
  },
  {
   "cell_type": "code",
   "execution_count": 124,
   "id": "c491709d",
   "metadata": {},
   "outputs": [
    {
     "name": "stdout",
     "output_type": "stream",
     "text": [
      "Open         6\n",
      "High         6\n",
      "Low          6\n",
      "Close        6\n",
      "Adj Close    6\n",
      "Volume       6\n",
      "dtype: int64\n",
      "0\n",
      "False\n"
     ]
    }
   ],
   "source": [
    "data= pd.read_csv('NSE Training Data - 1st Jan 2016 to 1st Jan 2022.csv', index_col='Date')\n",
    "print(data.isna().sum())\n",
    "data.dropna(inplace=True)\n",
    "print(data.isna().sum().sum())\n",
    "\n",
    "print(data.duplicated().any())\n",
    "df=data['Close']"
   ]
  },
  {
   "cell_type": "code",
   "execution_count": 125,
   "id": "568f4398",
   "metadata": {},
   "outputs": [
    {
     "name": "stdout",
     "output_type": "stream",
     "text": [
      "958 517\n"
     ]
    }
   ],
   "source": [
    "from sklearn.preprocessing import MinMaxScaler\n",
    "scaler=MinMaxScaler(feature_range=(0,1))\n",
    "df=scaler.fit_transform(np.array(df).reshape(-1,1))\n",
    "\n",
    "training_size=int(len(df)*0.65)\n",
    "test_size=len(df)-training_size\n",
    "train_data=df[0:training_size,:]\n",
    "test_data=df[training_size:len(df),:1]\n",
    "\n",
    "print(training_size,test_size)"
   ]
  },
  {
   "cell_type": "code",
   "execution_count": 126,
   "id": "ad368df5",
   "metadata": {},
   "outputs": [],
   "source": [
    "#Creating train & test data \n",
    "def create_dataset(dataset, step_time=1):\n",
    "\tdata_X, data_Y = [], []\n",
    "\tfor i in range(len(dataset)-step_time-1):\n",
    "\t\ta = dataset[i:(i+step_time), 0]   \n",
    "\t\tdata_X.append(a)\n",
    "\t\tdata_Y.append(dataset[i + step_time, 0])\n",
    "\treturn np.array(data_X), np.array(data_Y)"
   ]
  },
  {
   "cell_type": "code",
   "execution_count": 127,
   "id": "438feec3",
   "metadata": {},
   "outputs": [
    {
     "name": "stdout",
     "output_type": "stream",
     "text": [
      "(907, 50)\n",
      "(907,)\n"
     ]
    }
   ],
   "source": [
    "step_time = 50\n",
    "X_train, y_train = create_dataset(train_data, step_time)\n",
    "X_test, y_test = create_dataset(test_data, step_time)\n",
    "\n",
    "print(X_train.shape), print(y_train.shape)\n",
    "\n",
    "#tesorflow-LSTM model requires three dimentional array!\n",
    "X_train =X_train.reshape(X_train.shape[0],X_train.shape[1] , 1)\n",
    "X_test = X_test.reshape(X_test.shape[0],X_test.shape[1] , 1)"
   ]
  },
  {
   "cell_type": "code",
   "execution_count": 128,
   "id": "49e1f0e8",
   "metadata": {},
   "outputs": [],
   "source": [
    "from tensorflow.keras.layers import Dense\n",
    "from tensorflow.keras.layers import LSTM\n",
    "from tensorflow.keras.models import Sequential\n",
    "from tensorflow.keras.layers import Dropout"
   ]
  },
  {
   "cell_type": "code",
   "execution_count": 129,
   "id": "faebd9d5",
   "metadata": {},
   "outputs": [],
   "source": [
    "regressor =Sequential()\n",
    "regressor.add(LSTM(30,return_sequences=True,input_shape=(50,1)))\n",
    "regressor.add(LSTM(30,return_sequences=True))\n",
    "regressor.add(LSTM(30))\n",
    "regressor.add(Dense(1))\n",
    "regressor.compile(loss='mean_squared_error',optimizer='adam')"
   ]
  },
  {
   "cell_type": "code",
   "execution_count": 130,
   "id": "f56917e2",
   "metadata": {},
   "outputs": [
    {
     "name": "stdout",
     "output_type": "stream",
     "text": [
      "Epoch 1/100\n",
      "15/15 [==============================] - 6s 133ms/step - loss: 0.0194 - val_loss: 0.0665\n",
      "Epoch 2/100\n",
      "15/15 [==============================] - 1s 62ms/step - loss: 0.0034 - val_loss: 0.0201\n",
      "Epoch 3/100\n",
      "15/15 [==============================] - 1s 62ms/step - loss: 0.0016 - val_loss: 0.0200\n",
      "Epoch 4/100\n",
      "15/15 [==============================] - 1s 62ms/step - loss: 7.3283e-04 - val_loss: 0.0103\n",
      "Epoch 5/100\n",
      "15/15 [==============================] - 1s 62ms/step - loss: 4.9128e-04 - val_loss: 0.0059\n",
      "Epoch 6/100\n",
      "15/15 [==============================] - 1s 62ms/step - loss: 4.7449e-04 - val_loss: 0.0059\n",
      "Epoch 7/100\n",
      "15/15 [==============================] - 1s 63ms/step - loss: 4.6500e-04 - val_loss: 0.0059\n",
      "Epoch 8/100\n",
      "15/15 [==============================] - 1s 62ms/step - loss: 4.6753e-04 - val_loss: 0.0080\n",
      "Epoch 9/100\n",
      "15/15 [==============================] - 1s 62ms/step - loss: 4.8404e-04 - val_loss: 0.0074\n",
      "Epoch 10/100\n",
      "15/15 [==============================] - 1s 63ms/step - loss: 4.4231e-04 - val_loss: 0.0068\n",
      "Epoch 11/100\n",
      "15/15 [==============================] - 1s 66ms/step - loss: 4.4274e-04 - val_loss: 0.0059\n",
      "Epoch 12/100\n",
      "15/15 [==============================] - 1s 62ms/step - loss: 4.3401e-04 - val_loss: 0.0066\n",
      "Epoch 13/100\n",
      "15/15 [==============================] - 1s 63ms/step - loss: 4.2186e-04 - val_loss: 0.0067\n",
      "Epoch 14/100\n",
      "15/15 [==============================] - 1s 64ms/step - loss: 4.2068e-04 - val_loss: 0.0055\n",
      "Epoch 15/100\n",
      "15/15 [==============================] - 1s 62ms/step - loss: 4.3302e-04 - val_loss: 0.0044\n",
      "Epoch 16/100\n",
      "15/15 [==============================] - 1s 63ms/step - loss: 4.3579e-04 - val_loss: 0.0067\n",
      "Epoch 17/100\n",
      "15/15 [==============================] - 1s 63ms/step - loss: 4.2047e-04 - val_loss: 0.0059\n",
      "Epoch 18/100\n",
      "15/15 [==============================] - 1s 62ms/step - loss: 4.0290e-04 - val_loss: 0.0055\n",
      "Epoch 19/100\n",
      "15/15 [==============================] - 1s 62ms/step - loss: 4.0876e-04 - val_loss: 0.0047\n",
      "Epoch 20/100\n",
      "15/15 [==============================] - 1s 61ms/step - loss: 3.8005e-04 - val_loss: 0.0048\n",
      "Epoch 21/100\n",
      "15/15 [==============================] - 1s 62ms/step - loss: 3.7486e-04 - val_loss: 0.0065\n",
      "Epoch 22/100\n",
      "15/15 [==============================] - 1s 63ms/step - loss: 3.8655e-04 - val_loss: 0.0052\n",
      "Epoch 23/100\n",
      "15/15 [==============================] - 1s 63ms/step - loss: 3.5582e-04 - val_loss: 0.0051\n",
      "Epoch 24/100\n",
      "15/15 [==============================] - 1s 62ms/step - loss: 3.5552e-04 - val_loss: 0.0055\n",
      "Epoch 25/100\n",
      "15/15 [==============================] - 1s 63ms/step - loss: 3.5443e-04 - val_loss: 0.0042\n",
      "Epoch 26/100\n",
      "15/15 [==============================] - 1s 62ms/step - loss: 3.5823e-04 - val_loss: 0.0057\n",
      "Epoch 27/100\n",
      "15/15 [==============================] - 1s 63ms/step - loss: 3.4150e-04 - val_loss: 0.0049\n",
      "Epoch 28/100\n",
      "15/15 [==============================] - 1s 63ms/step - loss: 3.2028e-04 - val_loss: 0.0040\n",
      "Epoch 29/100\n",
      "15/15 [==============================] - 1s 63ms/step - loss: 3.4962e-04 - val_loss: 0.0040\n",
      "Epoch 30/100\n",
      "15/15 [==============================] - 1s 63ms/step - loss: 3.2015e-04 - val_loss: 0.0056\n",
      "Epoch 31/100\n",
      "15/15 [==============================] - 1s 62ms/step - loss: 3.1537e-04 - val_loss: 0.0046\n",
      "Epoch 32/100\n",
      "15/15 [==============================] - 1s 63ms/step - loss: 3.1103e-04 - val_loss: 0.0051\n",
      "Epoch 33/100\n",
      "15/15 [==============================] - 1s 62ms/step - loss: 3.2494e-04 - val_loss: 0.0040\n",
      "Epoch 34/100\n",
      "15/15 [==============================] - 1s 64ms/step - loss: 3.0713e-04 - val_loss: 0.0058\n",
      "Epoch 35/100\n",
      "15/15 [==============================] - 1s 63ms/step - loss: 2.8381e-04 - val_loss: 0.0036\n",
      "Epoch 36/100\n",
      "15/15 [==============================] - 1s 64ms/step - loss: 3.5643e-04 - val_loss: 0.0055\n",
      "Epoch 37/100\n",
      "15/15 [==============================] - 1s 62ms/step - loss: 2.7865e-04 - val_loss: 0.0056\n",
      "Epoch 38/100\n",
      "15/15 [==============================] - 1s 62ms/step - loss: 2.7179e-04 - val_loss: 0.0051\n",
      "Epoch 39/100\n",
      "15/15 [==============================] - 1s 63ms/step - loss: 2.7068e-04 - val_loss: 0.0056\n",
      "Epoch 40/100\n",
      "15/15 [==============================] - 1s 64ms/step - loss: 2.8841e-04 - val_loss: 0.0052\n",
      "Epoch 41/100\n",
      "15/15 [==============================] - 1s 62ms/step - loss: 2.9734e-04 - val_loss: 0.0060\n",
      "Epoch 42/100\n",
      "15/15 [==============================] - 1s 63ms/step - loss: 2.6612e-04 - val_loss: 0.0047\n",
      "Epoch 43/100\n",
      "15/15 [==============================] - 1s 63ms/step - loss: 2.5888e-04 - val_loss: 0.0046\n",
      "Epoch 44/100\n",
      "15/15 [==============================] - 1s 63ms/step - loss: 2.5521e-04 - val_loss: 0.0045\n",
      "Epoch 45/100\n",
      "15/15 [==============================] - 1s 64ms/step - loss: 2.5168e-04 - val_loss: 0.0056\n",
      "Epoch 46/100\n",
      "15/15 [==============================] - 1s 64ms/step - loss: 2.4971e-04 - val_loss: 0.0045\n",
      "Epoch 47/100\n",
      "15/15 [==============================] - 1s 66ms/step - loss: 2.4828e-04 - val_loss: 0.0062\n",
      "Epoch 48/100\n",
      "15/15 [==============================] - 1s 68ms/step - loss: 2.6464e-04 - val_loss: 0.0059\n",
      "Epoch 49/100\n",
      "15/15 [==============================] - 1s 65ms/step - loss: 2.4628e-04 - val_loss: 0.0034\n",
      "Epoch 50/100\n",
      "15/15 [==============================] - 1s 63ms/step - loss: 2.7563e-04 - val_loss: 0.0038\n",
      "Epoch 51/100\n",
      "15/15 [==============================] - 1s 63ms/step - loss: 2.3744e-04 - val_loss: 0.0050\n",
      "Epoch 52/100\n",
      "15/15 [==============================] - 1s 68ms/step - loss: 2.5443e-04 - val_loss: 0.0048\n",
      "Epoch 53/100\n",
      "15/15 [==============================] - 1s 66ms/step - loss: 2.4264e-04 - val_loss: 0.0047\n",
      "Epoch 54/100\n",
      "15/15 [==============================] - 1s 63ms/step - loss: 2.8685e-04 - val_loss: 0.0040\n",
      "Epoch 55/100\n",
      "15/15 [==============================] - 1s 63ms/step - loss: 2.3373e-04 - val_loss: 0.0037\n",
      "Epoch 56/100\n",
      "15/15 [==============================] - 1s 64ms/step - loss: 2.3774e-04 - val_loss: 0.0034\n",
      "Epoch 57/100\n",
      "15/15 [==============================] - 1s 64ms/step - loss: 2.4956e-04 - val_loss: 0.0047\n",
      "Epoch 58/100\n",
      "15/15 [==============================] - 1s 63ms/step - loss: 2.3869e-04 - val_loss: 0.0050\n",
      "Epoch 59/100\n",
      "15/15 [==============================] - 1s 66ms/step - loss: 2.5867e-04 - val_loss: 0.0055\n",
      "Epoch 60/100\n",
      "15/15 [==============================] - 1s 63ms/step - loss: 2.4249e-04 - val_loss: 0.0034\n",
      "Epoch 61/100\n",
      "15/15 [==============================] - 1s 63ms/step - loss: 2.2816e-04 - val_loss: 0.0039\n",
      "Epoch 62/100\n",
      "15/15 [==============================] - 1s 63ms/step - loss: 2.2434e-04 - val_loss: 0.0037\n",
      "Epoch 63/100\n",
      "15/15 [==============================] - 1s 63ms/step - loss: 2.2411e-04 - val_loss: 0.0051\n",
      "Epoch 64/100\n",
      "15/15 [==============================] - 1s 63ms/step - loss: 2.3784e-04 - val_loss: 0.0067\n",
      "Epoch 65/100\n",
      "15/15 [==============================] - 1s 63ms/step - loss: 2.4969e-04 - val_loss: 0.0049\n",
      "Epoch 66/100\n",
      "15/15 [==============================] - 1s 64ms/step - loss: 2.3240e-04 - val_loss: 0.0037\n",
      "Epoch 67/100\n",
      "15/15 [==============================] - 1s 63ms/step - loss: 2.4501e-04 - val_loss: 0.0032\n",
      "Epoch 68/100\n",
      "15/15 [==============================] - 1s 64ms/step - loss: 2.3256e-04 - val_loss: 0.0031\n",
      "Epoch 69/100\n",
      "15/15 [==============================] - 1s 63ms/step - loss: 2.1720e-04 - val_loss: 0.0036\n",
      "Epoch 70/100\n",
      "15/15 [==============================] - 1s 64ms/step - loss: 2.1438e-04 - val_loss: 0.0034\n",
      "Epoch 71/100\n",
      "15/15 [==============================] - 1s 63ms/step - loss: 2.1588e-04 - val_loss: 0.0042\n",
      "Epoch 72/100\n",
      "15/15 [==============================] - 1s 63ms/step - loss: 2.1597e-04 - val_loss: 0.0027\n",
      "Epoch 73/100\n",
      "15/15 [==============================] - 1s 64ms/step - loss: 2.2177e-04 - val_loss: 0.0036\n",
      "Epoch 74/100\n",
      "15/15 [==============================] - 1s 64ms/step - loss: 2.2488e-04 - val_loss: 0.0029\n",
      "Epoch 75/100\n",
      "15/15 [==============================] - 1s 65ms/step - loss: 2.7486e-04 - val_loss: 0.0045\n",
      "Epoch 76/100\n",
      "15/15 [==============================] - 1s 64ms/step - loss: 2.6976e-04 - val_loss: 0.0037\n",
      "Epoch 77/100\n",
      "15/15 [==============================] - 1s 64ms/step - loss: 2.5243e-04 - val_loss: 0.0032\n",
      "Epoch 78/100\n",
      "15/15 [==============================] - 1s 64ms/step - loss: 2.3002e-04 - val_loss: 0.0023\n",
      "Epoch 79/100\n"
     ]
    },
    {
     "name": "stdout",
     "output_type": "stream",
     "text": [
      "15/15 [==============================] - 1s 63ms/step - loss: 2.0977e-04 - val_loss: 0.0026\n",
      "Epoch 80/100\n",
      "15/15 [==============================] - 1s 62ms/step - loss: 2.0546e-04 - val_loss: 0.0036\n",
      "Epoch 81/100\n",
      "15/15 [==============================] - 1s 62ms/step - loss: 2.3010e-04 - val_loss: 0.0032\n",
      "Epoch 82/100\n",
      "15/15 [==============================] - 1s 62ms/step - loss: 2.0307e-04 - val_loss: 0.0028\n",
      "Epoch 83/100\n",
      "15/15 [==============================] - 1s 62ms/step - loss: 2.0080e-04 - val_loss: 0.0030\n",
      "Epoch 84/100\n",
      "15/15 [==============================] - 1s 62ms/step - loss: 2.0284e-04 - val_loss: 0.0021\n",
      "Epoch 85/100\n",
      "15/15 [==============================] - 1s 63ms/step - loss: 2.2312e-04 - val_loss: 0.0013\n",
      "Epoch 86/100\n",
      "15/15 [==============================] - 1s 62ms/step - loss: 2.9145e-04 - val_loss: 0.0021\n",
      "Epoch 87/100\n",
      "15/15 [==============================] - 1s 61ms/step - loss: 2.1605e-04 - val_loss: 0.0031\n",
      "Epoch 88/100\n",
      "15/15 [==============================] - 1s 63ms/step - loss: 2.0286e-04 - val_loss: 0.0035\n",
      "Epoch 89/100\n",
      "15/15 [==============================] - 1s 62ms/step - loss: 2.1534e-04 - val_loss: 0.0027\n",
      "Epoch 90/100\n",
      "15/15 [==============================] - 1s 62ms/step - loss: 1.9760e-04 - val_loss: 0.0021\n",
      "Epoch 91/100\n",
      "15/15 [==============================] - 1s 62ms/step - loss: 2.1989e-04 - val_loss: 0.0030\n",
      "Epoch 92/100\n",
      "15/15 [==============================] - 1s 62ms/step - loss: 2.2977e-04 - val_loss: 0.0025\n",
      "Epoch 93/100\n",
      "15/15 [==============================] - 1s 62ms/step - loss: 2.0034e-04 - val_loss: 0.0019\n",
      "Epoch 94/100\n",
      "15/15 [==============================] - 1s 62ms/step - loss: 2.2416e-04 - val_loss: 0.0032\n",
      "Epoch 95/100\n",
      "15/15 [==============================] - 1s 62ms/step - loss: 2.1341e-04 - val_loss: 0.0032\n",
      "Epoch 96/100\n",
      "15/15 [==============================] - 1s 62ms/step - loss: 2.3229e-04 - val_loss: 0.0035\n",
      "Epoch 97/100\n",
      "15/15 [==============================] - 1s 62ms/step - loss: 2.1069e-04 - val_loss: 0.0024\n",
      "Epoch 98/100\n",
      "15/15 [==============================] - 1s 62ms/step - loss: 2.1466e-04 - val_loss: 0.0025\n",
      "Epoch 99/100\n",
      "15/15 [==============================] - 1s 62ms/step - loss: 1.9506e-04 - val_loss: 0.0030\n",
      "Epoch 100/100\n",
      "15/15 [==============================] - 1s 61ms/step - loss: 1.9664e-04 - val_loss: 0.0023\n",
      "551.6980327051607\n"
     ]
    }
   ],
   "source": [
    "regressor.fit(X_train,y_train,validation_data=(X_test,y_test),epochs=100,batch_size=64,verbose=1)\n",
    "\n",
    "y_pred=regressor.predict(X_test)\n",
    "y_pred=scaler.inverse_transform(y_pred)\n",
    "y_test=y_test.reshape(y_test.shape[0],1)\n",
    "y_test=scaler.inverse_transform(y_test)\n",
    "from sklearn.metrics import mean_squared_error\n",
    "mse=mean_squared_error(y_test, y_pred)\n",
    "\n",
    "rmse=(mse)**0.5\n",
    "print(rmse)"
   ]
  },
  {
   "cell_type": "code",
   "execution_count": 131,
   "id": "9e468a85",
   "metadata": {},
   "outputs": [
    {
     "data": {
      "image/png": "[encoded data removed]",
      "text/plain": [
       "<Figure size 432x288 with 1 Axes>"
      ]
     },
     "metadata": {
      "needs_background": "light"
     },
     "output_type": "display_data"
    }
   ],
   "source": [
    "plt.plot(y_pred, label= \"predicted\")\n",
    "plt.plot(y_test, label=\"actual\")\n",
    "plt.ylabel(\"NIFTY\")\n",
    "plt.legend()\n",
    "plt.show()"
   ]
  },
  {
   "cell_type": "code",
   "execution_count": 132,
   "id": "ac5b1ca2",
   "metadata": {},
   "outputs": [
    {
     "name": "stdout",
     "output_type": "stream",
     "text": [
      "517\n",
      "(1, 50)\n"
     ]
    }
   ],
   "source": [
    "print(len(test_data))\n",
    "fut_inp=test_data[467:]\n",
    "fut_inp=fut_inp.reshape(1,-1)\n",
    "print(fut_inp.shape)\n",
    "\n",
    "tmp_inp=list(fut_inp)\n",
    "tmp_inp=tmp_inp[0].tolist()"
   ]
  },
  {
   "cell_type": "code",
   "execution_count": 133,
   "id": "6b8ced3c",
   "metadata": {},
   "outputs": [
    {
     "name": "stdout",
     "output_type": "stream",
     "text": [
      "[[0.8170520067214966], [0.8167816400527954], [0.8117904663085938], [0.8030551075935364], [0.7916048169136047], [0.7782965898513794], [0.7637634873390198], [0.7484446167945862], [0.7326350808143616], [0.7165298461914062], [0.7002677321434021], [0.6839573383331299], [0.6676920056343079], [0.6515588164329529], [0.6356437802314758], [0.6200326681137085], [0.6048125624656677], [0.5900641083717346], [0.5758638381958008], [0.5622820854187012], [0.5493797063827515], [0.5372054576873779], [0.5258011817932129], [0.5151916742324829], [0.5053917765617371], [0.49639806151390076], [0.4882049858570099], [0.4807911515235901], [0.4741292893886566], [0.46818315982818604], [0.4629068076610565], [0.4582533836364746], [0.4541790783405304], [0.4506330192089081], [0.44756144285202026], [0.4449138343334198], [0.44263970851898193], [0.44069311022758484], [0.43902847170829773], [0.43760499358177185]]\n"
     ]
    }
   ],
   "source": [
    "lst_output=[]\n",
    "n_steps=50\n",
    "i=0\n",
    "while(i<40):\n",
    "    \n",
    "    if(len(tmp_inp)>50):\n",
    "        fut_inp = np.array(tmp_inp[1:])\n",
    "        fut_inp=fut_inp.reshape(1,-1)\n",
    "        fut_inp = fut_inp.reshape((1, n_steps, 1))\n",
    "        yhat = regressor.predict(fut_inp, verbose=0)\n",
    "        tmp_inp.extend(yhat[0].tolist())\n",
    "        tmp_inp = tmp_inp[1:]\n",
    "        lst_output.extend(yhat.tolist())\n",
    "        i=i+1\n",
    "    else:\n",
    "        fut_inp = fut_inp.reshape((1, n_steps,1))\n",
    "        yhat = regressor.predict(fut_inp, verbose=0)\n",
    "        tmp_inp.extend(yhat[0].tolist())\n",
    "        lst_output.extend(yhat.tolist())\n",
    "        i=i+1\n",
    "print(lst_output)"
   ]
  },
  {
   "cell_type": "code",
   "execution_count": null,
   "id": "e547d4f3",
   "metadata": {},
   "outputs": [],
   "source": []
  },
  {
   "cell_type": "code",
   "execution_count": null,
   "id": "1d89b391",
   "metadata": {},
   "outputs": [],
   "source": []
  }
 ],
 "metadata": {
  "kernelspec": {
   "display_name": "Python 3",
   "language": "python",
   "name": "python3"
  },
  "language_info": {
   "codemirror_mode": {
    "name": "ipython",
    "version": 3
   },
   "file_extension": ".py",
   "mimetype": "text/x-python",
   "name": "python",
   "nbconvert_exporter": "python",
   "pygments_lexer": "ipython3",
   "version": "3.8.8"
  }
 },
 "nbformat": 4,
 "nbformat_minor": 5
}
